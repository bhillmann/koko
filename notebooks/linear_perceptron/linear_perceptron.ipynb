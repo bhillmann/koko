{
 "cells": [
  {
   "cell_type": "markdown",
   "metadata": {},
   "source": [
    "# Sections"
   ]
  },
  {
   "cell_type": "markdown",
   "metadata": {},
   "source": [
    "- [Introduction](#Introduction)\n",
    "- [Artificial Neurons and the McCulloch-Pitts Model](#Artificial-Neurons-and-the-McCulloch-Pitts-Model)\n",
    "- [Frank Rosenblatt's Perceptron](#Frank-Rosenblatt's-Perceptron)\n",
    "    - [The Unit Step Function](#The-Unit-Step-Function)\n",
    "    - [The Perceptron Learning Rule](#The-Perceptron-Learning-Rule)\n",
    "    - [Implementing the Perceptron Rule in Python](#Implementing-the-Perceptron-Rule-in-Python)\n",
    "    - [Problems with Perceptrons](#Problems-with-Perceptrons)\n",
    "- [Adaptive Linear Neurons and the Delta Rule](#Adaptive-Linear-Neurons-and-the-Delta-Rule)\n",
    "    - [Gradient Descent](#Gradient-Descent)\n",
    "    - [The Gradient Descent Rule in Action](#The-Gradient-Descent-Rule-in-Action)\n",
    "    - [Online Learning via Stochastic Gradient Descent](#Online-Learning-via-Stochastic-Gradient-Descent)\n",
    "- [What's Next?](#What's-Next?)\n",
    "- [References](#References)"
   ]
  },
  {
   "cell_type": "code",
   "execution_count": 1,
   "metadata": {
    "collapsed": false
   },
   "outputs": [
    {
     "name": "stderr",
     "output_type": "stream",
     "text": [
      "C:\\toolkits\\Anaconda3\\lib\\site-packages\\koko\\utils\\utilities.py:13: RuntimeWarning: invalid value encountered in true_divide\n",
      "  X /= np.std(X, axis=0)\n"
     ]
    },
    {
     "name": "stdout",
     "output_type": "stream",
     "text": [
      "0.978296089385\n",
      "0.0112650633826\n",
      "0.968829919305\n",
      "0.00836206406098\n"
     ]
    }
   ],
   "source": [
    "from sklearn import datasets\n",
    "from sklearn.linear_model import Perceptron as sk_Perceptron\n",
    "\n",
    "from koko.classifiers import LinearPerceptron\n",
    "from koko.utils import normalize, cross_val_score\n",
    "\n",
    "import numpy as np\n",
    "\n",
    "# Load the data\n",
    "data = datasets.load_digits()\n",
    "X = data.data\n",
    "y = data.target\n",
    "\n",
    "# Normalize the data\n",
    "# Subtract the mean divide by the standard deviation\n",
    "# Done row-wise\n",
    "X = normalize(X)\n",
    "\n",
    "# Change the multiclass prediction to 1 vs all\n",
    "y = np.array(y == 1, dtype=np.int)\n",
    "\n",
    "# Create a perceptron classifier\n",
    "clf = LinearPerceptron(epochs=10, eta=.001)\n",
    "\n",
    "# Run 10-fold cross-validation\n",
    "accuracy = np.array(cross_val_score(clf, X, y))\n",
    "print(np.mean(accuracy, axis=0))\n",
    "print(np.std(accuracy, axis=0))\n",
    "\n",
    "# Run 10-fold cross-validation of the sklearn perceptron\n",
    "sk_clf = sk_Perceptron()\n",
    "sk_accuracy = np.array(cross_val_score(sk_clf, X, y))\n",
    "print(np.mean(sk_accuracy, axis=0))\n",
    "print(np.std(sk_accuracy, axis=0))\n"
   ]
  },
  {
   "cell_type": "markdown",
   "metadata": {},
   "source": [
    "# Introduction"
   ]
  },
  {
   "cell_type": "markdown",
   "metadata": {},
   "source": [
    "[[back to top](#Sections)]"
   ]
  },
  {
   "cell_type": "markdown",
   "metadata": {},
   "source": [
    "Unit step:\n",
    "$$\n",
    " g(\\mathbf{z}) =\\begin{cases}\n",
    "    1 & \\text{if $\\mathbf{z} \\ge \\theta$}\\\\\n",
    "    0 & \\text{otherwise}.\n",
    "  \\end{cases}\n",
    "$$"
   ]
  },
  {
   "cell_type": "markdown",
   "metadata": {},
   "source": [
    "http://glowingpython.blogspot.com/2011/10/perceptron.html\n",
    "https://blog.dbrgn.ch/2013/3/26/perceptrons-in-python/"
   ]
  }
 ],
 "metadata": {
  "anaconda-cloud": {},
  "kernelspec": {
   "display_name": "Python [conda root]",
   "language": "python",
   "name": "conda-root-py"
  },
  "language_info": {
   "codemirror_mode": {
    "name": "ipython",
    "version": 3
   },
   "file_extension": ".py",
   "mimetype": "text/x-python",
   "name": "python",
   "nbconvert_exporter": "python",
   "pygments_lexer": "ipython3",
   "version": "3.5.2"
  }
 },
 "nbformat": 4,
 "nbformat_minor": 1
}
